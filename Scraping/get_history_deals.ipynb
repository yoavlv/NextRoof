{
 "cells": [
  {
   "cell_type": "code",
   "execution_count": 5,
   "id": "f7289335",
   "metadata": {},
   "outputs": [
    {
     "name": "stdout",
     "output_type": "stream",
     "text": [
      "OpenSSL 1.1.1k  25 Mar 2021\n"
     ]
    }
   ],
   "source": [
    "import pandas as pd\n",
    "import requests\n",
    "import bs4\n",
    "import json\n",
    "import csv\n",
    "import time\n",
    "import concurrent.futures\n",
    "from requests.adapters import HTTPAdapter\n",
    "from urllib3.util.retry import Retry\n",
    "import ssl\n",
    "print(ssl.OPENSSL_VERSION)"
   ]
  },
  {
   "cell_type": "code",
   "execution_count": 6,
   "id": "6c104e94",
   "metadata": {},
   "outputs": [],
   "source": [
    "url =  \"https://www.nadlan.gov.il/Nadlan.REST/Main/GetAssestAndDeals\"\n",
    "\n",
    "payload = {\n",
    "    \"MoreAssestsType\": None,\n",
    "    \"FillterRoomNum\": 0,\n",
    "    \"GridDisplayType\": 0,\n",
    "    \"ResultLable\": \"תל אביב -יפו\",\n",
    "    \"ResultType\": 1,\n",
    "    \"ObjectID\": \"5000\",\n",
    "    \"ObjectIDType\": \"text\",\n",
    "    \"ObjectKey\": \"UNIQ_ID\",\n",
    "    \"X\": 180428.31832654,\n",
    "    \"Y\": 665726.5550939,\n",
    "    \"Gush\": \"\",\n",
    "    \"Parcel\": \"\",\n",
    "    \"showLotParcel\": False,\n",
    "    \"showLotAddress\": False,\n",
    "    \"OriginalSearchString\": \"תל אביב  יפו\",\n",
    "    \"CurrentLavel\": 2,\n",
    "    \"Navs\": [],\n",
    "    \"QueryMapParams\": {\n",
    "        \"QueryToRun\": None,\n",
    "        \"QueryObjectID\": \"5000\",\n",
    "        \"QueryObjectType\": \"number\",\n",
    "        \"QueryObjectKey\": \"SETL_CODE\",\n",
    "        \"QueryDescLayerID\": \"KSHTANN_SETL_AREA\",\n",
    "        \"SpacialWhereClause\": True,\n",
    "    },\n",
    "    \"isHistorical\": False,\n",
    "    \"PageNo\": 1,\n",
    "    \"OrderByFilled\": \"DEALDATETIME\",\n",
    "    \"OrderByDescending\": True,\n",
    "    \"Distance\": 0\n",
    "}\n",
    "\n",
    "\n",
    "def fetch_data(url, payload, page_no, lost_pages):\n",
    "    payload['PageNo'] = page_no\n",
    "    if page_no % 100 == 0:\n",
    "        print(f'page:{page_no}/5200')\n",
    "    try:\n",
    "        retries = Retry(total=3, backoff_factor=0.5, status_forcelist=[500, 502, 503, 504])\n",
    "        adapter = HTTPAdapter(max_retries=retries)\n",
    "        session = requests.Session()\n",
    "        session.mount('https://', adapter)\n",
    "        response = session.post(url, json=payload, timeout=120)\n",
    "        json_data = response.json()\n",
    "\n",
    "    except Exception as e:\n",
    "        print(f\"Error: {e}\\npage{page_no}\")\n",
    "#         lost_pages.append(page_no)\n",
    "        time.sleep(5)\n",
    "        try:\n",
    "            response = session.post(url, json=payload, timeout=120)\n",
    "            json_data = response.json()\n",
    "        except Exception as e:\n",
    "            print(f\"Error: {e}\\n page{page_no}\")\n",
    "#             lost_pages.append(page_no)\n",
    "            return None\n",
    "\n",
    "    return pd.DataFrame(json_data['AllResults'])\n",
    "    \n",
    "def get_nandlan_data(url, payload, number_of_pages, max_threads=10):\n",
    "    '''\n",
    "    This function gets all real estate deals in Tel-Aviv from nadlan.gov.il - from 1998 until today (- 2 months)\n",
    "    We use threads to optimize the running time of this function.\n",
    "    '''\n",
    "    df = pd.DataFrame()\n",
    "    lost_pages = []\n",
    "    with concurrent.futures.ThreadPoolExecutor(max_workers=max_threads) as executor:\n",
    "        futures = []\n",
    "        for page_no in range(1, number_of_pages):\n",
    "            futures.append(executor.submit(fetch_data, url, payload, page_no, lost_pages))\n",
    "        for future in concurrent.futures.as_completed(futures):\n",
    "            new_df = future.result()\n",
    "            if new_df is not None and new_df.shape[0] != 0:\n",
    "                df = pd.concat([df, new_df], ignore_index=True)\n",
    "    if df.shape[0] > 10:\n",
    "        cols = [\"DEALDATETIME\", \"TREND_IS_NEGATIVE\", \"TREND_FORMAT\"]\n",
    "        df.drop(cols, axis=1, inplace=True)\n",
    "        \n",
    "    return df\n",
    "\n",
    "\n",
    "nadlan_df  = get_nandlan_data(url , payload ,20,10)"
   ]
  },
  {
   "cell_type": "code",
   "execution_count": 7,
   "id": "f9eb28b6",
   "metadata": {},
   "outputs": [
    {
     "name": "stdout",
     "output_type": "stream",
     "text": [
      "Total new rows: 280\n",
      "nadlan_old shape: (110937, 17)\n",
      "df_update shape: (110937, 17)\n"
     ]
    }
   ],
   "source": [
    "def update_nadlan_df(df, print_summary=False):\n",
    "    nadlan_old = pd.read_csv(\"../Data/Nadlan.csv\")\n",
    "    nadlan_old.drop_duplicates(inplace=True)\n",
    "    \n",
    "    nadlan_old_shape = nadlan_old.shape[0]\n",
    "    \n",
    "    nadlan_update = nadlan_old.append(df, ignore_index=True)\n",
    "    nadlan_update.drop_duplicates(inplace=True)\n",
    "    \n",
    "    if print_summary:\n",
    "        new_rows = abs(nadlan_update.shape[0] - nadlan_old_shape)\n",
    "        print(f\"Total new rows: {new_rows}\")\n",
    "        print(f'nadlan_old shape: {nadlan_update.shape}')\n",
    "\n",
    "    nadlan_update.to_csv(\"../Data/Nadlan.csv\", index=False)\n",
    "    return nadlan_update\n",
    "\n",
    "df_update = update_nadlan_df(nadlan_df,print_summary=True)\n",
    "print(f'df_update shape: {df_update.shape}')"
   ]
  },
  {
   "cell_type": "code",
   "execution_count": 8,
   "id": "54f5235f",
   "metadata": {},
   "outputs": [
    {
     "name": "stdout",
     "output_type": "stream",
     "text": [
      "File created and written successfully!\n"
     ]
    }
   ],
   "source": [
    "def create_and_write_file():\n",
    "    file_path = \"status.txt\"\n",
    "    message = \"get_nadlan deal pass-success\"\n",
    "\n",
    "    try:\n",
    "        # Create a new file and open it in write mode\n",
    "        with open(file_path, \"w\") as file:\n",
    "            # Write the message to the file\n",
    "            file.write(message)\n",
    "        \n",
    "        print(\"File created and written successfully!\")\n",
    "    except Exception as e:\n",
    "        print(\"An error occurred while creating and writing the file:\", str(e))\n",
    "\n",
    "# Call the function to create and write the file\n",
    "create_and_write_file()\n"
   ]
  }
 ],
 "metadata": {
  "kernelspec": {
   "display_name": "Python 3",
   "language": "python",
   "name": "python3"
  },
  "language_info": {
   "codemirror_mode": {
    "name": "ipython",
    "version": 3
   },
   "file_extension": ".py",
   "mimetype": "text/x-python",
   "name": "python",
   "nbconvert_exporter": "python",
   "pygments_lexer": "ipython3",
   "version": "3.8.8"
  },
  "varInspector": {
   "cols": {
    "lenName": 16,
    "lenType": 16,
    "lenVar": 40
   },
   "kernels_config": {
    "python": {
     "delete_cmd_postfix": "",
     "delete_cmd_prefix": "del ",
     "library": "var_list.py",
     "varRefreshCmd": "print(var_dic_list())"
    },
    "r": {
     "delete_cmd_postfix": ") ",
     "delete_cmd_prefix": "rm(",
     "library": "var_list.r",
     "varRefreshCmd": "cat(var_dic_list()) "
    }
   },
   "types_to_exclude": [
    "module",
    "function",
    "builtin_function_or_method",
    "instance",
    "_Feature"
   ],
   "window_display": false
  }
 },
 "nbformat": 4,
 "nbformat_minor": 5
}
