{
 "cells": [
  {
   "cell_type": "code",
   "execution_count": null,
   "id": "ac88a73b",
   "metadata": {},
   "outputs": [],
   "source": [
    "import pandas as pd\n",
    "import requests\n",
    "import bs4\n",
    "import json\n",
    "import requests \n",
    "import csv\n",
    "import time\n",
    "import concurrent.futures\n",
    "from requests.adapters import HTTPAdapter\n",
    "from urllib3.util.retry import Retry"
   ]
  },
  {
   "cell_type": "code",
   "execution_count": null,
   "id": "7b902174",
   "metadata": {},
   "outputs": [],
   "source": [
    "def get_data_gov_map():\n",
    "    '''\n",
    "    Get all the real estate deals in Tel-Aviv from GovMap - from 1998 until now.\n",
    "    50000000-50007000 include all the range of the street codes in Tel Aviv (note: part of them are empty).\n",
    "    This function gets JSON data and returns a DataFrame with all the data.\n",
    "    \n",
    "    Notes:\n",
    "    - need to split the requests into threads to get better results.\n",
    "    '''\n",
    "\n",
    "    url = \"https://ags.govmap.gov.il/Identify/GetDealsByStreetCodes\"\n",
    "    xmin, ymin, xmax, ymax = 175110.0, 659000.0, 185730.0, 674000.0\n",
    "    street_codes = list(range(50000000, 50008000))\n",
    "    data_list = []\n",
    "    \n",
    "    def process_street_code(street_code):\n",
    "        payload = {\n",
    "            \"StreetCodes\": [street_code],\n",
    "            \"Extent\": {\n",
    "                \"xmin\": xmin,\n",
    "                \"ymin\": ymin,\n",
    "                \"xmax\": xmax,\n",
    "                \"ymax\": ymax\n",
    "            }\n",
    "        }\n",
    "        \n",
    "        try:\n",
    "            retries = Retry(total=3, backoff_factor=0.5, status_forcelist=[500, 502, 503, 504])\n",
    "            adapter = HTTPAdapter(max_retries=retries)\n",
    "            session = requests.Session()\n",
    "            session.mount('https://', adapter)\n",
    "            response = session.post(url, json=payload, timeout=30)\n",
    "\n",
    "#             response = requests.post(url, json=payload, timeout=10)\n",
    "            data = response.json()\n",
    "            return data[\"data\"]\n",
    "        except:\n",
    "            print(f\"Oops! StreetCodes:{street_code} isn't working\")\n",
    "            return []\n",
    "\n",
    "    with concurrent.futures.ThreadPoolExecutor(max_workers=10) as executor:\n",
    "        results = executor.map(process_street_code, street_codes)\n",
    "\n",
    "        for data in results:\n",
    "            data_list.append(data)\n",
    "    \n",
    "    df = pd.concat([pd.DataFrame(data) for data in data_list], ignore_index=True)\n",
    "#     cols = [\"DEALDATE\",\"DEALTYPE\",\"PROJECTNAME\",\"CITY\",\"CITYID\",'WKT','extent']\n",
    "#     df.drop(cols, axis=1, inplace=True)\n",
    "\n",
    "    return df\n",
    "    \n",
    "    \n",
    "def split_and_save_df(df):\n",
    "    '''\n",
    "    This funtion use to split the dataframe og GOVMAPS beacuse of the size of the csv file\n",
    "    '''\n",
    "    middle_row = len(df) // 2\n",
    "    \n",
    "    df1 = df.iloc[:middle_row]\n",
    "    df2 = df.iloc[middle_row:]\n",
    "    \n",
    "    df1.to_csv(\"Data/Real_Estate_TLV_GOVMAPS_1.csv\", index=False)\n",
    "    df2.to_csv(\"Data/Real_Estate_TLV_GOVMAPS_2.csv\", index=False)\n",
    "    \n",
    "\n",
    "# gov_map_df = get_data_gov_map()\n",
    "# print(gov_map_df.shape)\n",
    "# split_and_save_df(gov_map_df)\n",
    "# gov_map_df.to_csv(\"Data/Test.csv\", index=False)\n",
    "# gov_map_df"
   ]
  }
 ],
 "metadata": {
  "kernelspec": {
   "display_name": "Python 3",
   "language": "python",
   "name": "python3"
  },
  "language_info": {
   "codemirror_mode": {
    "name": "ipython",
    "version": 3
   },
   "file_extension": ".py",
   "mimetype": "text/x-python",
   "name": "python",
   "nbconvert_exporter": "python",
   "pygments_lexer": "ipython3",
   "version": "3.8.8"
  },
  "varInspector": {
   "cols": {
    "lenName": 16,
    "lenType": 16,
    "lenVar": 40
   },
   "kernels_config": {
    "python": {
     "delete_cmd_postfix": "",
     "delete_cmd_prefix": "del ",
     "library": "var_list.py",
     "varRefreshCmd": "print(var_dic_list())"
    },
    "r": {
     "delete_cmd_postfix": ") ",
     "delete_cmd_prefix": "rm(",
     "library": "var_list.r",
     "varRefreshCmd": "cat(var_dic_list()) "
    }
   },
   "types_to_exclude": [
    "module",
    "function",
    "builtin_function_or_method",
    "instance",
    "_Feature"
   ],
   "window_display": false
  }
 },
 "nbformat": 4,
 "nbformat_minor": 5
}
