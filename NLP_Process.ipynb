{
 "cells": [
  {
   "cell_type": "code",
   "execution_count": 2,
   "id": "5293f5c1",
   "metadata": {},
   "outputs": [
    {
     "name": "stderr",
     "output_type": "stream",
     "text": [
      "Using region Tel Aviv server backend.\n",
      "\n"
     ]
    }
   ],
   "source": [
    "import pandas as pd\n",
    "import numpy as np\n",
    "import matplotlib.pyplot as plt\n",
    "from spacy.cli.train import train\n",
    "import spacy\n",
    "from translate import Translator\n",
    "from concurrent.futures import ThreadPoolExecutor\n",
    "import time\n",
    "import translators as ts\n",
    "import requests\n"
   ]
  },
  {
   "cell_type": "code",
   "execution_count": null,
   "id": "d723225a",
   "metadata": {},
   "outputs": [
    {
     "name": "stdout",
     "output_type": "stream",
     "text": [
      "171\n",
      "0\n",
      "Rate limit reached. Waiting for 60 seconds before retrying...\n",
      "Work\n",
      "1\n",
      "2\n",
      "3\n",
      "4\n",
      "5\n",
      "6\n",
      "7\n",
      "8\n",
      "9\n",
      "10\n",
      "11\n",
      "12\n",
      "13\n",
      "14\n",
      "15\n",
      "16\n",
      "17\n",
      "18\n",
      "19\n",
      "20\n",
      "21\n",
      "22\n",
      "23\n",
      "24\n",
      "25\n",
      "26\n",
      "Rate limit reached. Waiting for 60 seconds before retrying...\n",
      "26\n",
      "27\n",
      "28\n",
      "29\n",
      "30\n"
     ]
    }
   ],
   "source": [
    "df = pd.read_csv(\"Data/Predicted_DB.csv\")\n",
    "translated_texts = []\n",
    "df = df.dropna(subset=['Text'])\n",
    "df = df[df['Text'].apply(len) >= 40]\n",
    "\n",
    "\n",
    "with open(\"translated_texts.txt\", \"w\", encoding=\"utf-8\") as f:\n",
    "    for idx, text in enumerate(df['Text']):\n",
    "        f.write(f\"@idx@{text}\\n\")  \n",
    "        \n",
    "with open(\"translated_texts.txt\",\"r\") as f:\n",
    "    text = f.read()\n",
    "\n",
    "chunks = [text[i:i+1000] for i in range(0, len(text), 1000)]\n",
    "print(len(chunks))\n",
    "\n",
    "for chunk in chunks:\n",
    "    print(len(translated_texts))\n",
    "    try:\n",
    "        translated_chunk = ts.translate_text(chunk)\n",
    "        translated_texts.append(translated_chunk)\n",
    "        time.sleep(60)\n",
    "    except requests.exceptions.HTTPError as e:\n",
    "        if e.response.status_code == 429:  # If it's a 'Too Many Requests' error\n",
    "            print(\"Rate limit reached. Waiting for 60 seconds before retrying...\")\n",
    "            time.sleep(60)\n",
    "            try:\n",
    "                translated_chunk = ts.translate_text(chunk)\n",
    "                translated_texts.append(translated_chunk)\n",
    "                print(\"Work\")\n",
    "                time.sleep(60)\n",
    "            except:\n",
    "                time.sleep(60)\n",
    "\n",
    "        else:\n",
    "            print(f\"An error occurred: {e}\")\n",
    "\n",
    "translated_texts\n",
    "print(ts.translate_text(text[:1000]))\n",
    "\n"
   ]
  },
  {
   "cell_type": "code",
   "execution_count": null,
   "id": "b06ea928",
   "metadata": {},
   "outputs": [],
   "source": [
    "import re\n",
    "\n",
    "def add_translated_texts_to_df(df, translated_texts):\n",
    "    full_translated_text = ''.join(translated_texts)\n",
    "    # Use regex to split lines starting with a number and a period\n",
    "    lines = re.split(r'^\\d+\\.\\s*', full_translated_text, flags=re.MULTILINE)\n",
    "\n",
    "    # Create an empty list to store the translations\n",
    "    translations = []\n",
    "\n",
    "    for line in lines:\n",
    "        if line.strip():  # Check if the line is not empty\n",
    "            translations.append(line.strip())\n",
    "\n",
    "    # Add translations to the dataframe\n",
    "#     df['Text_en'] = translations\n",
    "\n",
    "    return translations\n",
    "\n",
    "df = add_translated_texts_to_df(df, translated_texts)\n",
    "\n",
    "df\n"
   ]
  },
  {
   "cell_type": "code",
   "execution_count": null,
   "id": "47ba8a34",
   "metadata": {},
   "outputs": [],
   "source": []
  }
 ],
 "metadata": {
  "kernelspec": {
   "display_name": "Python 3",
   "language": "python",
   "name": "python3"
  },
  "language_info": {
   "codemirror_mode": {
    "name": "ipython",
    "version": 3
   },
   "file_extension": ".py",
   "mimetype": "text/x-python",
   "name": "python",
   "nbconvert_exporter": "python",
   "pygments_lexer": "ipython3",
   "version": "3.8.8"
  },
  "varInspector": {
   "cols": {
    "lenName": 16,
    "lenType": 16,
    "lenVar": 40
   },
   "kernels_config": {
    "python": {
     "delete_cmd_postfix": "",
     "delete_cmd_prefix": "del ",
     "library": "var_list.py",
     "varRefreshCmd": "print(var_dic_list())"
    },
    "r": {
     "delete_cmd_postfix": ") ",
     "delete_cmd_prefix": "rm(",
     "library": "var_list.r",
     "varRefreshCmd": "cat(var_dic_list()) "
    }
   },
   "types_to_exclude": [
    "module",
    "function",
    "builtin_function_or_method",
    "instance",
    "_Feature"
   ],
   "window_display": false
  }
 },
 "nbformat": 4,
 "nbformat_minor": 5
}
