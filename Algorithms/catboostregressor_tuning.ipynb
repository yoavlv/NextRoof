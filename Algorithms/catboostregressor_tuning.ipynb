{
 "cells": [
  {
   "cell_type": "code",
   "execution_count": 33,
   "id": "8d6b5804",
   "metadata": {},
   "outputs": [],
   "source": [
    "import csv\n",
    "import pandas as pd\n",
    "import numpy as np\n",
    "import matplotlib.pyplot as plt      \n",
    "from sklearn import preprocessing, linear_model, model_selection\n",
    "from sklearn.preprocessing import StandardScaler, MinMaxScaler\n",
    "from sklearn import linear_model, metrics, preprocessing\n",
    "from sklearn.metrics import r2_score ,mean_absolute_error\n",
    "from sklearn.pipeline import Pipeline\n",
    "from sklearn.model_selection import GridSearchCV , RandomizedSearchCV ,train_test_split\n",
    "from catboost import CatBoostRegressor\n",
    "from sklearn.feature_selection import SelectKBest, f_regression\n",
    "from ipynb.fs.full.set_up import data_prep\n"
   ]
  },
  {
   "cell_type": "code",
   "execution_count": 34,
   "id": "eaa48e21",
   "metadata": {},
   "outputs": [],
   "source": [
    "def tune_model(X_train_scaled, y_train):\n",
    "    params = {'iterations': [1000, 1500],\n",
    "                           'learning_rate': [0.01,0.05],\n",
    "                           'depth': [8,10],\n",
    "                            'l2_leaf_reg': [3,9],\n",
    "                           }\n",
    "    grid_search_cv = GridSearchCV(CatBoostRegressor(logging_level='Silent'), params, n_jobs=-1, verbose=1, cv=5)\n",
    "    grid_search_cv.fit(X_train_scaled, y_train)\n",
    "    best_params = grid_search_cv.best_params_\n",
    "    best_score = grid_search_cv.best_score_\n",
    "    print(best_params)\n",
    "    \n",
    "    cv_results = grid_search_cv.cv_results_      \n",
    "    df = pd.DataFrame(cv_results)\n",
    "    \n",
    "    return best_params, best_score , df\n",
    "\n",
    "\n",
    "def return_best_model(X_train_scaled, y_train, best_params):\n",
    "    reg = CatBoostRegressor(**best_params , logging_level='Silent')\n",
    "    reg.fit(X_train_scaled, y_train)\n",
    "    y_pred = reg.predict(X_test_scaled)\n",
    "    return reg, y_pred \n",
    "\n",
    " \n",
    "def evaluate_model(y_test, y_pred):\n",
    "    mae = mean_absolute_error(y_test, y_pred)\n",
    "    r2 = r2_score(y_test, y_pred)\n",
    "    return mae, r2"
   ]
  },
  {
   "cell_type": "code",
   "execution_count": 35,
   "id": "3406c0b3",
   "metadata": {},
   "outputs": [
    {
     "name": "stdout",
     "output_type": "stream",
     "text": [
      "(58945, 20)\n",
      "(35715, 12)\n",
      "Fitting 5 folds for each of 16 candidates, totalling 80 fits\n",
      "{'depth': 8, 'iterations': 1500, 'l2_leaf_reg': 3, 'learning_rate': 0.05}\n",
      "Best Parameters: {'depth': 8, 'iterations': 1500, 'l2_leaf_reg': 3, 'learning_rate': 0.05}\n",
      "Best Score: 0.7820667154224821\n",
      "MAE: 315044.11380542687\n",
      "R2: 0.7719588020079527\n"
     ]
    }
   ],
   "source": [
    "#1.Prep the Model\n",
    "X_train_scaled,  X_test_scaled  ,y_train, y_test , X_train, X_test = data_prep()\n",
    "\n",
    "#2.Tune Model\n",
    "best_params, best_score ,df_2 = tune_model(X_train_scaled, y_train)\n",
    "\n",
    "#3. Test the model\n",
    "forest, y_pred = return_best_model(X_train_scaled, y_train, best_params)\n",
    "\n",
    "#4.evaluate the model\n",
    "mae, r2 = evaluate_model(y_test, y_pred)\n",
    "\n",
    "print(\"Best Parameters:\", best_params)\n",
    "print(\"Best Score:\", best_score)\n",
    "print(\"MAE:\", mae) \n",
    "print(\"R2:\", r2)"
   ]
  },
  {
   "cell_type": "code",
   "execution_count": null,
   "id": "abd10780",
   "metadata": {},
   "outputs": [],
   "source": [
    "# (58945, 20)\n",
    "# (35715, 12)\n",
    "# Fitting 5 folds for each of 16 candidates, totalling 80 fits\n",
    "# {'depth': 8, 'iterations': 1500, 'l2_leaf_reg': 3, 'learning_rate': 0.05}\n",
    "# Best Parameters: {'depth': 8, 'iterations': 1500, 'l2_leaf_reg': 3, 'learning_rate': 0.05}\n",
    "# Best Score: 0.7820667154224821\n",
    "# MAE: 315044.11380542687\n",
    "# R2: 0.7719588020079527"
   ]
  }
 ],
 "metadata": {
  "kernelspec": {
   "display_name": "Python 3",
   "language": "python",
   "name": "python3"
  },
  "language_info": {
   "codemirror_mode": {
    "name": "ipython",
    "version": 3
   },
   "file_extension": ".py",
   "mimetype": "text/x-python",
   "name": "python",
   "nbconvert_exporter": "python",
   "pygments_lexer": "ipython3",
   "version": "3.8.8"
  },
  "varInspector": {
   "cols": {
    "lenName": 16,
    "lenType": 16,
    "lenVar": 40
   },
   "kernels_config": {
    "python": {
     "delete_cmd_postfix": "",
     "delete_cmd_prefix": "del ",
     "library": "var_list.py",
     "varRefreshCmd": "print(var_dic_list())"
    },
    "r": {
     "delete_cmd_postfix": ") ",
     "delete_cmd_prefix": "rm(",
     "library": "var_list.r",
     "varRefreshCmd": "cat(var_dic_list()) "
    }
   },
   "types_to_exclude": [
    "module",
    "function",
    "builtin_function_or_method",
    "instance",
    "_Feature"
   ],
   "window_display": false
  }
 },
 "nbformat": 4,
 "nbformat_minor": 5
}
