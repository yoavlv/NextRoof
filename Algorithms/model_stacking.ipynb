{
 "cells": [
  {
   "cell_type": "code",
   "execution_count": 1,
   "id": "b5c5c1be",
   "metadata": {},
   "outputs": [],
   "source": [
    "from numpy import mean\n",
    "from numpy import std\n",
    "import numpy as np\n",
    "from sklearn.model_selection import cross_val_score , cross_validate ,RepeatedKFold ,GridSearchCV ,train_test_split\n",
    "from sklearn.linear_model import LinearRegression\n",
    "from sklearn.neighbors import KNeighborsRegressor\n",
    "from sklearn.tree import DecisionTreeRegressor\n",
    "from sklearn.svm import SVR\n",
    "from sklearn.ensemble import StackingRegressor ,RandomForestRegressor\n",
    "from sklearn.metrics import r2_score ,mean_absolute_error\n",
    "from sklearn.neural_network import MLPRegressor\n",
    "from matplotlib import pyplot\n",
    "from catboost import CatBoostRegressor\n",
    "from xgboost import XGBRegressor\n",
    "import pandas as pd\n",
    "import csv\n",
    "\n",
    "from ipynb.fs.full.set_up import data_prep\n"
   ]
  },
  {
   "cell_type": "code",
   "execution_count": 2,
   "id": "e618c19b",
   "metadata": {},
   "outputs": [
    {
     "name": "stdout",
     "output_type": "stream",
     "text": [
      "Prep\n",
      "(58437, 24)\n",
      "CatBoostRegressor--- mae: 344183.8521006044\n",
      "            r2_score: 0.7894800450341839\n",
      "\n",
      "\n",
      "[12:39:12] WARNING: C:\\buildkite-agent\\builds\\buildkite-windows-cpu-autoscaling-group-i-07593ffd91cd9da33-1\\xgboost\\xgboost-ci-windows\\src\\learner.cc:767: \n",
      "Parameters: { \"logging_level\", \"model__learning_rate\", \"model__max_depth\", \"model__n_estimators\" } are not used.\n",
      "\n",
      "XGBRegressor--- mae: 371650.7313899537\n",
      "            r2_score: 0.7804819745964763\n",
      "\n",
      "\n",
      "RandomForestRegressor--- mae: 365022.0372753383\n",
      "            r2_score: 0.777917576143733\n",
      "\n",
      "\n",
      "knn--- mae: 411624.7612532045\n",
      "            r2_score: 0.7210248721526651\n",
      "\n",
      "\n",
      "[12:40:11] WARNING: C:\\buildkite-agent\\builds\\buildkite-windows-cpu-autoscaling-group-i-07593ffd91cd9da33-1\\xgboost\\xgboost-ci-windows\\src\\learner.cc:767: \n",
      "Parameters: { \"logging_level\", \"model__learning_rate\", \"model__max_depth\", \"model__n_estimators\" } are not used.\n",
      "\n",
      "[12:42:29] WARNING: C:\\buildkite-agent\\builds\\buildkite-windows-cpu-autoscaling-group-i-07593ffd91cd9da33-1\\xgboost\\xgboost-ci-windows\\src\\learner.cc:767: \n",
      "Parameters: { \"logging_level\", \"model__learning_rate\", \"model__max_depth\", \"model__n_estimators\" } are not used.\n",
      "\n",
      "[12:42:30] WARNING: C:\\buildkite-agent\\builds\\buildkite-windows-cpu-autoscaling-group-i-07593ffd91cd9da33-1\\xgboost\\xgboost-ci-windows\\src\\learner.cc:767: \n",
      "Parameters: { \"logging_level\", \"model__learning_rate\", \"model__max_depth\", \"model__n_estimators\" } are not used.\n",
      "\n",
      "[12:42:32] WARNING: C:\\buildkite-agent\\builds\\buildkite-windows-cpu-autoscaling-group-i-07593ffd91cd9da33-1\\xgboost\\xgboost-ci-windows\\src\\learner.cc:767: \n",
      "Parameters: { \"logging_level\", \"model__learning_rate\", \"model__max_depth\", \"model__n_estimators\" } are not used.\n",
      "\n",
      "[12:42:33] WARNING: C:\\buildkite-agent\\builds\\buildkite-windows-cpu-autoscaling-group-i-07593ffd91cd9da33-1\\xgboost\\xgboost-ci-windows\\src\\learner.cc:767: \n",
      "Parameters: { \"logging_level\", \"model__learning_rate\", \"model__max_depth\", \"model__n_estimators\" } are not used.\n",
      "\n",
      "[12:42:34] WARNING: C:\\buildkite-agent\\builds\\buildkite-windows-cpu-autoscaling-group-i-07593ffd91cd9da33-1\\xgboost\\xgboost-ci-windows\\src\\learner.cc:767: \n",
      "Parameters: { \"logging_level\", \"model__learning_rate\", \"model__max_depth\", \"model__n_estimators\" } are not used.\n",
      "\n",
      "stacking--- mae: 340952.40510790434\n",
      "            r2_score: 0.7917814585853364\n",
      "\n",
      "\n"
     ]
    },
    {
     "data": {
      "image/png": "[encoded data removed]",
      "text/plain": [
       "<Figure size 864x576 with 1 Axes>"
      ]
     },
     "metadata": {
      "needs_background": "light"
     },
     "output_type": "display_data"
    }
   ],
   "source": [
    "\n",
    "def get_stacking(params):\n",
    "    # define the base models\n",
    "    level0 = list()\n",
    "    level0.append(('CatBoostRegressor', CatBoostRegressor(**params['catboost_params'], logging_level='Silent'))) \n",
    "    level0.append(('RandomForestRegressor', RandomForestRegressor(**params['forest_params'])))\n",
    "    level0.append(('XGBRegressor', XGBRegressor(**params['xgboost_params'], logging_level='Silent')))\n",
    "    level0.append(('LinearRegression', LinearRegression(**params['linear_params'])))\n",
    "#     level0.append(('MLPRegressor', MLPRegressor(hidden_layer_sizes=(100, 50),\n",
    "#                                                 activation='relu', solver='adam', **params['mlp_params'])))\n",
    "\n",
    "\n",
    "     # define meta-learner model\n",
    "    level1 = LinearRegression(**params['linear_params'])\n",
    "#     level1 = MLPRegressor(hidden_layer_sizes=(100, 50), activation='relu', solver='adam', **params['mlp_params'])\n",
    "\n",
    "    # define the stacking ensemble\n",
    "    model = StackingRegressor(estimators=level0, final_estimator=level1, cv=5)\n",
    "    return model\n",
    " \n",
    "# get a list of models to evaluate\n",
    "def get_models(params):\n",
    "    models = dict()\n",
    "    \n",
    "    models['CatBoostRegressor'] = CatBoostRegressor(**params['catboost_params'], logging_level='Silent')\n",
    "    models['XGBRegressor'] = XGBRegressor(**params['xgboost_params'], logging_level='Silent')\n",
    "    models['RandomForestRegressor'] = RandomForestRegressor(**params['forest_params'])\n",
    "#     models['MLPRegressor'] = MLPRegressor(hidden_layer_sizes=(100, 50), activation='relu', solver='adam', **params['mlp_params'])\n",
    "#     models['LinearRegression'] = LinearRegression(**params['linear_params'])\n",
    "    models['knn'] = KNeighborsRegressor()\n",
    "    \n",
    "    models['stacking'] = get_stacking(params)\n",
    "    return models\n",
    " \n",
    "# evaluate a given model using cross-validation\n",
    "def evaluate_model(model,X_train_scaled, X_test_scaled  ,y_train, y_test):\n",
    "    model_train = model.fit(X_train_scaled , y_train)\n",
    "    \n",
    "    cv = RepeatedKFold(n_splits=5, n_repeats=3, random_state=1)\n",
    "    scores = cross_val_score(model_train, X_test_scaled, y_test, scoring='neg_mean_absolute_error', cv=cv, n_jobs=-1)\n",
    "    \n",
    "    mae = -scores.mean()\n",
    "    r2 = model_train.score(X_test_scaled, y_test)\n",
    "    \n",
    "    return mae ,r2 , scores\n",
    " \n",
    "forest_params= {'n_estimators': 200,\n",
    "                  'min_samples_split': 2,\n",
    "                  'min_samples_leaf': 2, \n",
    "                  'max_features': 'sqrt', \n",
    "                  'max_depth': 15, \n",
    "                  'bootstrap': False}\n",
    "\n",
    "xgboost_params = {'model__learning_rate': 0.1,\n",
    "                  'model__max_depth': 7, \n",
    "                  'model__n_estimators': 250}\n",
    "\n",
    "catboost_params = {'iterations': 1500,\n",
    "                   'learning_rate': 0.05,\n",
    "                   'l2_leaf_reg': 3,\n",
    "                   'depth': 8}\n",
    "\n",
    "linear_params = {'fit_intercept': True,\n",
    "                 'normalize': True}\n",
    "\n",
    "mlp_params = {'alpha': 0.01,\n",
    "              'learning_rate_init': 0.001}\n",
    "\n",
    "params = {'forest_params': forest_params , 'xgboost_params':xgboost_params\n",
    "          ,'catboost_params':catboost_params ,'linear_params':linear_params,'mlp_params':mlp_params }\n",
    "\n",
    "\n",
    "X_train_scaled,  X_test_scaled  ,y_train, y_test , X_train, X_test = data_prep()\n",
    "\n",
    "# get the models to evaluate\n",
    "models = get_models(params)\n",
    "\n",
    "# evaluate the models and store results\n",
    "scores, names = list(), list()\n",
    "for name, model in models.items():\n",
    "    mae ,r2 , score = evaluate_model(model, X_train_scaled , X_test_scaled  ,y_train, y_test)\n",
    "    print(f\"{name}--- mae: {mae}\\n            r2_score: {r2}\\n\\n\") \n",
    "    scores.append(score)\n",
    "    names.append(name)\n",
    "#     print('>%s %.3f (%.3f)' % (name, mean(scores), std(scores)))\n",
    "    \n",
    "# plot model performance for comparison\n",
    "pyplot.figure(figsize=(12,8)) \n",
    "pyplot.boxplot(scores, labels=names, showmeans=True)\n",
    "pyplot.show()"
   ]
  },
  {
   "cell_type": "code",
   "execution_count": null,
   "id": "ece0c74b",
   "metadata": {},
   "outputs": [],
   "source": []
  },
  {
   "cell_type": "code",
   "execution_count": null,
   "id": "f6da4e86",
   "metadata": {},
   "outputs": [],
   "source": []
  }
 ],
 "metadata": {
  "kernelspec": {
   "display_name": "Python 3",
   "language": "python",
   "name": "python3"
  },
  "language_info": {
   "codemirror_mode": {
    "name": "ipython",
    "version": 3
   },
   "file_extension": ".py",
   "mimetype": "text/x-python",
   "name": "python",
   "nbconvert_exporter": "python",
   "pygments_lexer": "ipython3",
   "version": "3.8.8"
  },
  "varInspector": {
   "cols": {
    "lenName": 16,
    "lenType": 16,
    "lenVar": 40
   },
   "kernels_config": {
    "python": {
     "delete_cmd_postfix": "",
     "delete_cmd_prefix": "del ",
     "library": "var_list.py",
     "varRefreshCmd": "print(var_dic_list())"
    },
    "r": {
     "delete_cmd_postfix": ") ",
     "delete_cmd_prefix": "rm(",
     "library": "var_list.r",
     "varRefreshCmd": "cat(var_dic_list()) "
    }
   },
   "types_to_exclude": [
    "module",
    "function",
    "builtin_function_or_method",
    "instance",
    "_Feature"
   ],
   "window_display": false
  }
 },
 "nbformat": 4,
 "nbformat_minor": 5
}
